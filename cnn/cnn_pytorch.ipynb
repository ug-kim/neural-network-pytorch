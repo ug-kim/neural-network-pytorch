{
 "cells": [
  {
   "cell_type": "code",
   "execution_count": 1,
   "metadata": {},
   "outputs": [],
   "source": [
    "import torch\n",
    "import torch.nn as nn\n",
    "import torch.nn.functional as F\n",
    "import torch.optim as optim\n",
    "from torchvision import datasets, transforms\n",
    "from torch.autograd import Variable\n",
    "import matplotlib.pyplot as plt\n",
    "import seaborn as sn\n",
    "import pandas as pd\n",
    "import numpy as np\n",
    "from collections import defaultdict\n",
    "from sklearn.metrics import confusion_matrix\n",
    "from tensorboardX import SummaryWriter\n",
    "\n",
    "%matplotlib inline\n",
    "plt.rcParams['figure.figsize'] = (5.0, 4.0) # set default size of plots\n",
    "plt.rcParams['image.interpolation'] = 'nearest'\n",
    "plt.rcParams['image.cmap'] = 'gray'\n",
    "\n",
    "%load_ext autoreload\n",
    "%autoreload 2"
   ]
  },
  {
   "cell_type": "code",
   "execution_count": 2,
   "metadata": {},
   "outputs": [],
   "source": [
    "batch_size = 128\n",
    "epoch = 7\n",
    "learning_rate = 0.01\n",
    "\n",
    "# prepare dataset\n",
    "dataset = datasets.MNIST(\n",
    "    root='./mnist', train=True, transform=transforms.ToTensor(), download=True)\n",
    "\n",
    "train_dataset, val_dataset = torch.utils.data.random_split(dataset, [55000, 5000])\n",
    "\n",
    "test_dataset = datasets.MNIST(\n",
    "    root='./mnist', train=False, transform=transforms.ToTensor())\n",
    "\n",
    "# data loader\n",
    "train_loader = torch.utils.data.DataLoader(\n",
    "    dataset=train_dataset, batch_size=batch_size, shuffle=False)\n",
    "\n",
    "val_loader = torch.utils.data.DataLoader(dataset=val_dataset, batch_size=batch_size, shuffle=False)\n",
    "\n",
    "test_loader = torch.utils.data.DataLoader(\n",
    "    dataset=test_dataset, batch_size=batch_size, shuffle=False)"
   ]
  },
  {
   "cell_type": "code",
   "execution_count": 3,
   "metadata": {},
   "outputs": [],
   "source": [
    "class Learning():\n",
    "    def __init__(self, epoch, model, criterion, optimizer, num_layer):\n",
    "        self.epoch = epoch\n",
    "        self.model = model\n",
    "        self.criterion = criterion\n",
    "        self.optimizer = optimizer\n",
    "        self.num_layer = num_layer\n",
    "\n",
    "    \n",
    "    def train(self):\n",
    "        epoch = self.epoch\n",
    "        model = self.model\n",
    "        criterion = self.criterion\n",
    "        optimizer = self.optimizer\n",
    "        \n",
    "        train_loss_graph = []\n",
    "        val_loss_graph = []\n",
    "        train_acc_graph = []\n",
    "        val_acc_graph = []\n",
    "        \n",
    "        writer = SummaryWriter(logdir='logs/pytorch')\n",
    "\n",
    "        model.train()\n",
    "        for e in range(epoch):\n",
    "            # Training    \n",
    "            train_loss = 0\n",
    "            train_acc = 0\n",
    "\n",
    "            val_loss = 0\n",
    "            val_acc = 0\n",
    "            train_total = 0\n",
    "            print(\"[Epoch (%d)] -------------------------------\" % (e + 1))\n",
    "            for batch_idx, (data, target) in enumerate(train_loader):\n",
    "                data, target = Variable(data), Variable(target)\n",
    "                output = model(data)\n",
    "                loss = criterion(output, target)\n",
    "\n",
    "                # backward 전 optimizer 객체를 사용해 갱신할 변수에 대한 변화도를 0으로 만든다\n",
    "                # backward를 호출할 때마다 변화도가 덮어쓰지 않고 누적되기 때문이다\n",
    "                optimizer.zero_grad()\n",
    "                loss.backward()\n",
    "                optimizer.step()\n",
    "\n",
    "                _, predicted = torch.max(output.data, 1) # [128, ]\n",
    "\n",
    "                train_total += target.size(0)\n",
    "                train_acc += (predicted == target).sum().item()\n",
    "                train_loss += loss.item()\n",
    "\n",
    "                if batch_idx % 100 == 0:\n",
    "                    print('Train Epoch: %d, Loss: %.6f, Accuracy: %d' % (e + 1, loss.item(), 100 * train_acc / train_total))\n",
    "\n",
    "            train_loss_graph.append(train_loss / train_total)\n",
    "            train_acc_graph.append(train_acc / train_total)\n",
    "\n",
    "            # Validation\n",
    "            val_total = 0\n",
    "            val_correct = 0\n",
    "            for batch_idx, (data, target) in enumerate(val_loader):\n",
    "                with torch.no_grad():\n",
    "                    data, target = Variable(data), Variable(target)\n",
    "                    output = model(data)\n",
    "                    loss = criterion(output, target)\n",
    "                    _, predicted = torch.max(output.data, 1)\n",
    "                    val_total += target.size(0)\n",
    "                    val_correct += (predicted == target).sum().item()\n",
    "\n",
    "                    val_loss += loss.item()\n",
    "                    acc = (predicted == target).sum().item()\n",
    "                    val_acc += acc\n",
    "\n",
    "                    if batch_idx % 10 == 0:\n",
    "                        print('Validation Epoch: %d, Loss: %.6f, Accuracy: %d' % (e + 1, loss.item(), 100 * val_correct / val_total))\n",
    "\n",
    "            val_loss_graph.append(val_loss / val_total)\n",
    "            val_acc_graph.append(val_acc / val_total)\n",
    "            \n",
    "            writer.add_scalars(self.num_layer + 'loss', {'train': train_loss / train_total, 'val': val_loss / val_total}, e)\n",
    "            writer.add_scalars(self.num_layer + 'accuracy', {'train': train_acc / train_total, 'val': val_acc / val_total}, e)\n",
    "                                                      \n",
    "\n",
    "        self.model = model\n",
    "        self.criterion = criterion\n",
    "        self.optimizer = optimizer\n",
    "                                                      \n",
    "        writer.close()\n",
    "        \n",
    "        return {'train_loss_graph': train_loss_graph, 'val_loss_graph': val_loss_graph, 'train_acc_graph': train_acc_graph, 'val_acc_graph': val_acc_graph}\n",
    "\n",
    "    def test(self):\n",
    "        model = self.model\n",
    "        criterion = self.criterion\n",
    "        \n",
    "        model.eval()\n",
    "        test_loss = 0\n",
    "        correct = 0\n",
    "        acc = 0\n",
    "        test_pred = []\n",
    "        test_score= []\n",
    "        test_data = []\n",
    "        test_label = []\n",
    "        for i, (data, target) in enumerate(test_loader):\n",
    "            with torch.no_grad():\n",
    "                data, target = Variable(data), Variable(target)\n",
    "                output = model(data)\n",
    "                loss = criterion(output, target).item()\n",
    "                test_loss += loss\n",
    "\n",
    "                _, pred = torch.max(output.data, 1)\n",
    "                score = output.data.numpy()\n",
    "                score = np.exp(score)\n",
    "                score /= np.sum(score, axis=1).reshape(-1, 1)\n",
    "                score = np.max(score, axis=1)\n",
    "\n",
    "                test_pred.extend(pred)\n",
    "                test_score.extend(score)\n",
    "                test_data.extend(data.numpy())\n",
    "                test_label.extend(target.numpy())\n",
    "\n",
    "                correct += (pred == target).sum().item()\n",
    "                acc += (pred == target).sum().item()\n",
    "\n",
    "                test_loss /= len(test_loader.dataset)\n",
    "\n",
    "        print('Test Average loss: %.4f, Accuracy: %.0f' % (test_loss, 100. * correct / len(test_loader.dataset)))\n",
    "        return {'test_pred': test_pred, 'test_score': test_score, 'test_data': test_data, 'test_label': test_label}"
   ]
  },
  {
   "cell_type": "code",
   "execution_count": 4,
   "metadata": {},
   "outputs": [],
   "source": [
    "class TwoLayerNet(nn.Module):\n",
    "    def __init__(self):\n",
    "        super(TwoLayerNet, self).__init__()\n",
    "        \n",
    "        # (28, 28, 1) -> (28, 28, 32) -> (14, 14, 8)\n",
    "        self.layer_1 = nn.Sequential(\n",
    "            nn.Conv2d(1, 8, kernel_size=3, stride=1, padding=1),\n",
    "            nn.ReLU(),\n",
    "            nn.MaxPool2d(kernel_size=2, stride=2))\n",
    "        \n",
    "        # (14, 14, 8) -> (14, 14, 16) -> (7, 7, 16)\n",
    "        self.layer_2 = nn.Sequential(\n",
    "            nn.Conv2d(8, 16, kernel_size=3, stride=1, padding=1),\n",
    "            nn.ReLU(),\n",
    "            nn.MaxPool2d(kernel_size=2, stride=2))\n",
    "        \n",
    "        # (7, 7, 16) -> (10, )\n",
    "        self.fc = nn.Linear(7 * 7 * 16, 10)\n",
    "        \n",
    "    def forward(self, x):\n",
    "        out = self.layer_1(x)\n",
    "        out = self.layer_2(out)\n",
    "        out = out.view(out.size(0), -1) # flatten\n",
    "        out = self.fc(out)\n",
    "        \n",
    "        return out"
   ]
  },
  {
   "cell_type": "code",
   "execution_count": 5,
   "metadata": {},
   "outputs": [],
   "source": [
    "np.random.seed(0)\n",
    "\n",
    "net = TwoLayerNet()\n",
    "\n",
    "criterion = nn.CrossEntropyLoss()\n",
    "optimizer = optim.SGD(net.parameters(), lr=learning_rate)"
   ]
  },
  {
   "cell_type": "code",
   "execution_count": 6,
   "metadata": {},
   "outputs": [
    {
     "name": "stdout",
     "output_type": "stream",
     "text": [
      "[Epoch (1)] -------------------------------\n",
      "Train Epoch: 1, Loss: 2.305389, Accuracy: 9\n",
      "Train Epoch: 1, Loss: 2.272565, Accuracy: 15\n",
      "Train Epoch: 1, Loss: 2.177247, Accuracy: 20\n",
      "Train Epoch: 1, Loss: 1.754215, Accuracy: 31\n",
      "Train Epoch: 1, Loss: 0.706417, Accuracy: 42\n",
      "Validation Epoch: 1, Loss: 0.670776, Accuracy: 84\n",
      "Validation Epoch: 1, Loss: 0.673985, Accuracy: 81\n",
      "Validation Epoch: 1, Loss: 0.686474, Accuracy: 81\n",
      "Validation Epoch: 1, Loss: 0.748130, Accuracy: 82\n",
      "[Epoch (2)] -------------------------------\n",
      "Train Epoch: 2, Loss: 0.596417, Accuracy: 85\n",
      "Train Epoch: 2, Loss: 0.381856, Accuracy: 84\n",
      "Train Epoch: 2, Loss: 0.451082, Accuracy: 85\n",
      "Train Epoch: 2, Loss: 0.304379, Accuracy: 86\n",
      "Train Epoch: 2, Loss: 0.217331, Accuracy: 87\n",
      "Validation Epoch: 2, Loss: 0.365173, Accuracy: 90\n",
      "Validation Epoch: 2, Loss: 0.274290, Accuracy: 90\n",
      "Validation Epoch: 2, Loss: 0.389403, Accuracy: 89\n",
      "Validation Epoch: 2, Loss: 0.440929, Accuracy: 90\n",
      "[Epoch (3)] -------------------------------\n",
      "Train Epoch: 3, Loss: 0.284976, Accuracy: 90\n",
      "Train Epoch: 3, Loss: 0.231323, Accuracy: 90\n",
      "Train Epoch: 3, Loss: 0.352260, Accuracy: 90\n",
      "Train Epoch: 3, Loss: 0.207230, Accuracy: 90\n",
      "Train Epoch: 3, Loss: 0.157007, Accuracy: 91\n",
      "Validation Epoch: 3, Loss: 0.287791, Accuracy: 91\n",
      "Validation Epoch: 3, Loss: 0.196068, Accuracy: 92\n",
      "Validation Epoch: 3, Loss: 0.323503, Accuracy: 91\n",
      "Validation Epoch: 3, Loss: 0.358970, Accuracy: 92\n",
      "[Epoch (4)] -------------------------------\n",
      "Train Epoch: 4, Loss: 0.223011, Accuracy: 90\n",
      "Train Epoch: 4, Loss: 0.195078, Accuracy: 92\n",
      "Train Epoch: 4, Loss: 0.308354, Accuracy: 92\n",
      "Train Epoch: 4, Loss: 0.164462, Accuracy: 92\n",
      "Train Epoch: 4, Loss: 0.131560, Accuracy: 92\n",
      "Validation Epoch: 4, Loss: 0.238312, Accuracy: 91\n",
      "Validation Epoch: 4, Loss: 0.149339, Accuracy: 93\n",
      "Validation Epoch: 4, Loss: 0.281136, Accuracy: 92\n",
      "Validation Epoch: 4, Loss: 0.304217, Accuracy: 92\n",
      "[Epoch (5)] -------------------------------\n",
      "Train Epoch: 5, Loss: 0.186665, Accuracy: 92\n",
      "Train Epoch: 5, Loss: 0.175159, Accuracy: 93\n",
      "Train Epoch: 5, Loss: 0.276866, Accuracy: 93\n",
      "Train Epoch: 5, Loss: 0.140100, Accuracy: 93\n",
      "Train Epoch: 5, Loss: 0.114096, Accuracy: 93\n",
      "Validation Epoch: 5, Loss: 0.201764, Accuracy: 92\n",
      "Validation Epoch: 5, Loss: 0.115752, Accuracy: 93\n",
      "Validation Epoch: 5, Loss: 0.250313, Accuracy: 93\n",
      "Validation Epoch: 5, Loss: 0.260871, Accuracy: 93\n",
      "[Epoch (6)] -------------------------------\n",
      "Train Epoch: 6, Loss: 0.161239, Accuracy: 92\n",
      "Train Epoch: 6, Loss: 0.160937, Accuracy: 94\n",
      "Train Epoch: 6, Loss: 0.251153, Accuracy: 94\n",
      "Train Epoch: 6, Loss: 0.125538, Accuracy: 94\n",
      "Train Epoch: 6, Loss: 0.099504, Accuracy: 94\n",
      "Validation Epoch: 6, Loss: 0.173549, Accuracy: 93\n",
      "Validation Epoch: 6, Loss: 0.091788, Accuracy: 95\n",
      "Validation Epoch: 6, Loss: 0.228034, Accuracy: 94\n",
      "Validation Epoch: 6, Loss: 0.225550, Accuracy: 94\n",
      "[Epoch (7)] -------------------------------\n",
      "Train Epoch: 7, Loss: 0.142091, Accuracy: 95\n",
      "Train Epoch: 7, Loss: 0.150018, Accuracy: 94\n",
      "Train Epoch: 7, Loss: 0.230177, Accuracy: 94\n",
      "Train Epoch: 7, Loss: 0.116459, Accuracy: 94\n",
      "Train Epoch: 7, Loss: 0.087375, Accuracy: 94\n",
      "Validation Epoch: 7, Loss: 0.151862, Accuracy: 94\n",
      "Validation Epoch: 7, Loss: 0.075120, Accuracy: 95\n",
      "Validation Epoch: 7, Loss: 0.212038, Accuracy: 95\n",
      "Validation Epoch: 7, Loss: 0.196509, Accuracy: 95\n"
     ]
    }
   ],
   "source": [
    "learning = Learning(epoch, net, criterion, optimizer, num_layer=\"two_layer_\")\n",
    "\n",
    "stats = learning.train()"
   ]
  },
  {
   "cell_type": "code",
   "execution_count": 7,
   "metadata": {},
   "outputs": [
    {
     "name": "stdout",
     "output_type": "stream",
     "text": [
      "Test Average loss: 0.0000, Accuracy: 96\n"
     ]
    }
   ],
   "source": [
    "# test\n",
    "tests = learning.test()"
   ]
  },
  {
   "cell_type": "code",
   "execution_count": 8,
   "metadata": {},
   "outputs": [],
   "source": [
    "test_pred = np.array(tests['test_pred'])\n",
    "test_score = np.array(tests['test_score'])\n",
    "test_data = np.array(tests['test_data'])\n",
    "test_data = test_data.reshape(-1, 784)\n",
    "test_label = np.array(tests['test_label'])"
   ]
  },
  {
   "cell_type": "code",
   "execution_count": 9,
   "metadata": {},
   "outputs": [],
   "source": [
    "scores_dict = defaultdict(list)\n",
    "for i in range(len(test_pred)):\n",
    "    scores_dict[test_pred[i]].append((test_score[i], i))\n",
    "\n",
    "# print(scores_dict)\n",
    "\n",
    "top_3_dict = defaultdict(list)\n",
    "for key in scores_dict.keys():\n",
    "    values = scores_dict[key]\n",
    "    values.sort(key=lambda x: x[0], reverse=True)\n",
    "    top_3_dict[key].extend(values[:3])"
   ]
  },
  {
   "cell_type": "code",
   "execution_count": 10,
   "metadata": {},
   "outputs": [],
   "source": [
    "# tensorboard - top 3 images\n",
    "\n",
    "writer = SummaryWriter(logdir='logs/pytorch')\n",
    "\n",
    "for i in range(10):\n",
    "    top_3_values = top_3_dict[i]\n",
    "    for j in range(3):\n",
    "        best_img = np.reshape(test_data[top_3_values[j][1]], (1, 28, 28))\n",
    "        title = 'two_layer_class_' + str(i) + \"_\" + str(j) + '/prob_' + str(round(top_3_values[j][0], 5))\n",
    "        writer.add_image(title, best_img)\n",
    "\n",
    "writer.close()"
   ]
  },
  {
   "cell_type": "code",
   "execution_count": 11,
   "metadata": {},
   "outputs": [
    {
     "data": {
      "text/plain": [
       "Text(69.0, 0.5, 'True label')"
      ]
     },
     "execution_count": 11,
     "metadata": {},
     "output_type": "execute_result"
    },
    {
     "data": {
      "image/png": "[encoded data removed]",
      "text/plain": [
       "<Figure size 720x504 with 2 Axes>"
      ]
     },
     "metadata": {
      "needs_background": "light"
     },
     "output_type": "display_data"
    }
   ],
   "source": [
    "# confusion matrix\n",
    "confusion = confusion_matrix(test_label, test_pred)\n",
    "confusion = confusion.astype(np.float) / confusion.astype(np.float).sum(axis=1, keepdims=True)\n",
    "\n",
    "df = pd.DataFrame(confusion, range(10), range(10))\n",
    "plt.figure(figsize = (10,7))\n",
    "sn.heatmap(df, annot=True)\n",
    "plt.xlabel(\"Predicted label\")\n",
    "plt.ylabel(\"True label\")"
   ]
  },
  {
   "cell_type": "code",
   "execution_count": 12,
   "metadata": {},
   "outputs": [],
   "source": [
    "class ThreeLayerNet(nn.Module):\n",
    "    def __init__(self):\n",
    "        super(ThreeLayerNet, self).__init__()\n",
    "        \n",
    "        # (28, 28, 1) -> (28, 28, 8) -> (14, 14, 8)\n",
    "        self.layer_1 = nn.Sequential(\n",
    "            nn.Conv2d(1, 8, kernel_size=3, stride=1, padding=1),\n",
    "            nn.ReLU(),\n",
    "            nn.MaxPool2d(kernel_size=2, stride=2))\n",
    "        \n",
    "        # (14, 14, 8) -> (14, 14, 10) -> (7, 7, 10)\n",
    "        self.layer_2 = nn.Sequential(\n",
    "            nn.Conv2d(8, 10, kernel_size=3, stride=1, padding=1),\n",
    "            nn.ReLU(),\n",
    "            nn.MaxPool2d(kernel_size=2, stride=2))\n",
    "        \n",
    "        # (7, 7, 10) -> (7, 7, 16) -> (4, 4, 16)\n",
    "        self.layer_3 = nn.Sequential(\n",
    "            nn.Conv2d(10, 16, kernel_size=3, stride=1, padding=1),\n",
    "            nn.ReLU(),\n",
    "            nn.MaxPool2d(kernel_size=2, stride=2, padding=1))\n",
    "        \n",
    "        # (4, 4, 16) -> (10, )\n",
    "        self.fc = nn.Linear(4 * 4 * 16, 10)\n",
    "    \n",
    "    def forward(self, x):\n",
    "        out = self.layer_1(x)\n",
    "        out = self.layer_2(out)\n",
    "        out = self.layer_3(out)\n",
    "        out = out.view(out.size(0), -1)\n",
    "        out = self.fc(out)\n",
    "        \n",
    "        return out"
   ]
  },
  {
   "cell_type": "code",
   "execution_count": 13,
   "metadata": {},
   "outputs": [],
   "source": [
    "np.random.seed(1)\n",
    "\n",
    "net_2 = ThreeLayerNet()\n",
    "\n",
    "criterion_2 = nn.CrossEntropyLoss()\n",
    "optimizer_2 = optim.SGD(net_2.parameters(), lr=learning_rate)"
   ]
  },
  {
   "cell_type": "code",
   "execution_count": 14,
   "metadata": {},
   "outputs": [
    {
     "name": "stdout",
     "output_type": "stream",
     "text": [
      "[Epoch (1)] -------------------------------\n",
      "Train Epoch: 1, Loss: 2.299513, Accuracy: 10\n",
      "Train Epoch: 1, Loss: 2.299705, Accuracy: 9\n",
      "Train Epoch: 1, Loss: 2.295785, Accuracy: 10\n",
      "Train Epoch: 1, Loss: 2.294316, Accuracy: 10\n",
      "Train Epoch: 1, Loss: 2.300344, Accuracy: 12\n",
      "Validation Epoch: 1, Loss: 2.297500, Accuracy: 10\n",
      "Validation Epoch: 1, Loss: 2.299293, Accuracy: 9\n",
      "Validation Epoch: 1, Loss: 2.294532, Accuracy: 10\n",
      "Validation Epoch: 1, Loss: 2.294288, Accuracy: 11\n",
      "[Epoch (2)] -------------------------------\n",
      "Train Epoch: 2, Loss: 2.297412, Accuracy: 7\n",
      "Train Epoch: 2, Loss: 2.294741, Accuracy: 11\n",
      "Train Epoch: 2, Loss: 2.288400, Accuracy: 11\n",
      "Train Epoch: 2, Loss: 2.287235, Accuracy: 12\n",
      "Train Epoch: 2, Loss: 2.291304, Accuracy: 12\n",
      "Validation Epoch: 2, Loss: 2.285122, Accuracy: 13\n",
      "Validation Epoch: 2, Loss: 2.288296, Accuracy: 10\n",
      "Validation Epoch: 2, Loss: 2.280545, Accuracy: 11\n",
      "Validation Epoch: 2, Loss: 2.284249, Accuracy: 11\n",
      "[Epoch (3)] -------------------------------\n",
      "Train Epoch: 3, Loss: 2.286251, Accuracy: 9\n",
      "Train Epoch: 3, Loss: 2.277605, Accuracy: 13\n",
      "Train Epoch: 3, Loss: 2.259596, Accuracy: 20\n",
      "Train Epoch: 3, Loss: 2.235535, Accuracy: 26\n",
      "Train Epoch: 3, Loss: 2.183681, Accuracy: 32\n",
      "Validation Epoch: 3, Loss: 2.124697, Accuracy: 57\n",
      "Validation Epoch: 3, Loss: 2.137836, Accuracy: 52\n",
      "Validation Epoch: 3, Loss: 2.115702, Accuracy: 53\n",
      "Validation Epoch: 3, Loss: 2.144520, Accuracy: 54\n",
      "[Epoch (4)] -------------------------------\n",
      "Train Epoch: 4, Loss: 2.124470, Accuracy: 52\n",
      "Train Epoch: 4, Loss: 1.678553, Accuracy: 57\n",
      "Train Epoch: 4, Loss: 0.923808, Accuracy: 62\n",
      "Train Epoch: 4, Loss: 0.714231, Accuracy: 66\n",
      "Train Epoch: 4, Loss: 0.499464, Accuracy: 69\n",
      "Validation Epoch: 4, Loss: 0.569883, Accuracy: 82\n",
      "Validation Epoch: 4, Loss: 0.513048, Accuracy: 83\n",
      "Validation Epoch: 4, Loss: 0.563873, Accuracy: 83\n",
      "Validation Epoch: 4, Loss: 0.678701, Accuracy: 83\n",
      "[Epoch (5)] -------------------------------\n",
      "Train Epoch: 5, Loss: 0.407037, Accuracy: 86\n",
      "Train Epoch: 5, Loss: 0.332662, Accuracy: 83\n",
      "Train Epoch: 5, Loss: 0.440219, Accuracy: 84\n",
      "Train Epoch: 5, Loss: 0.388561, Accuracy: 85\n",
      "Train Epoch: 5, Loss: 0.280970, Accuracy: 86\n",
      "Validation Epoch: 5, Loss: 0.399113, Accuracy: 89\n",
      "Validation Epoch: 5, Loss: 0.261453, Accuracy: 89\n",
      "Validation Epoch: 5, Loss: 0.353334, Accuracy: 89\n",
      "Validation Epoch: 5, Loss: 0.471890, Accuracy: 89\n",
      "[Epoch (6)] -------------------------------\n",
      "Train Epoch: 6, Loss: 0.246628, Accuracy: 89\n",
      "Train Epoch: 6, Loss: 0.207320, Accuracy: 90\n",
      "Train Epoch: 6, Loss: 0.361028, Accuracy: 90\n",
      "Train Epoch: 6, Loss: 0.247578, Accuracy: 90\n",
      "Train Epoch: 6, Loss: 0.203784, Accuracy: 90\n",
      "Validation Epoch: 6, Loss: 0.316122, Accuracy: 89\n",
      "Validation Epoch: 6, Loss: 0.172304, Accuracy: 92\n",
      "Validation Epoch: 6, Loss: 0.267794, Accuracy: 92\n",
      "Validation Epoch: 6, Loss: 0.354282, Accuracy: 91\n",
      "[Epoch (7)] -------------------------------\n",
      "Train Epoch: 7, Loss: 0.189510, Accuracy: 92\n",
      "Train Epoch: 7, Loss: 0.158194, Accuracy: 92\n",
      "Train Epoch: 7, Loss: 0.317246, Accuracy: 92\n",
      "Train Epoch: 7, Loss: 0.184605, Accuracy: 92\n",
      "Train Epoch: 7, Loss: 0.151177, Accuracy: 92\n",
      "Validation Epoch: 7, Loss: 0.250600, Accuracy: 90\n",
      "Validation Epoch: 7, Loss: 0.130049, Accuracy: 93\n",
      "Validation Epoch: 7, Loss: 0.226569, Accuracy: 93\n",
      "Validation Epoch: 7, Loss: 0.281236, Accuracy: 93\n"
     ]
    }
   ],
   "source": [
    "learning_2 = Learning(epoch, net_2, criterion_2, optimizer_2, num_layer=\"three_layer_\")\n",
    "\n",
    "stats_2 = learning_2.train()"
   ]
  },
  {
   "cell_type": "code",
   "execution_count": 15,
   "metadata": {},
   "outputs": [
    {
     "name": "stdout",
     "output_type": "stream",
     "text": [
      "Test Average loss: 0.0000, Accuracy: 94\n"
     ]
    }
   ],
   "source": [
    "# test\n",
    "tests_2 = learning_2.test()"
   ]
  },
  {
   "cell_type": "code",
   "execution_count": 16,
   "metadata": {},
   "outputs": [],
   "source": [
    "test_pred = np.array(tests_2['test_pred'])\n",
    "test_score = np.array(tests_2['test_score'])\n",
    "test_data = np.array(tests_2['test_data'])\n",
    "test_data = test_data.reshape(-1, 784)\n",
    "test_label = np.array(tests_2['test_label'])"
   ]
  },
  {
   "cell_type": "code",
   "execution_count": 17,
   "metadata": {},
   "outputs": [],
   "source": [
    "scores_dict = defaultdict(list)\n",
    "for i in range(len(test_pred)):\n",
    "    scores_dict[test_pred[i]].append((test_score[i], i))\n",
    "\n",
    "# print(scores_dict)\n",
    "\n",
    "top_3_dict = defaultdict(list)\n",
    "for key in scores_dict.keys():\n",
    "    values = scores_dict[key]\n",
    "    values.sort(key=lambda x: x[0], reverse=True)\n",
    "    top_3_dict[key].extend(values[:3])"
   ]
  },
  {
   "cell_type": "code",
   "execution_count": 18,
   "metadata": {},
   "outputs": [],
   "source": [
    "# tensorboard - top 3 images\n",
    "\n",
    "writer = SummaryWriter(logdir='logs/pytorch')\n",
    "\n",
    "for i in range(10):\n",
    "    top_3_values = top_3_dict[i]\n",
    "    for j in range(3):\n",
    "        best_img = np.reshape(test_data[top_3_values[j][1]], (1, 28, 28))\n",
    "        title = 'three_layer_class_' + str(i) + \"_\" + str(j) + '/prob_' + str(round(top_3_values[j][0], 5))\n",
    "        writer.add_image(title, best_img)\n",
    "\n",
    "writer.close()"
   ]
  },
  {
   "cell_type": "code",
   "execution_count": 19,
   "metadata": {},
   "outputs": [
    {
     "data": {
      "text/plain": [
       "Text(69.0, 0.5, 'True label')"
      ]
     },
     "execution_count": 19,
     "metadata": {},
     "output_type": "execute_result"
    },
    {
     "data": {
      "image/png": "[encoded data removed]",
      "text/plain": [
       "<Figure size 720x504 with 2 Axes>"
      ]
     },
     "metadata": {
      "needs_background": "light"
     },
     "output_type": "display_data"
    }
   ],
   "source": [
    "# confusion matrix\n",
    "confusion = confusion_matrix(test_label, test_pred)\n",
    "confusion = confusion.astype(np.float) / confusion.astype(np.float).sum(axis=1, keepdims=True)\n",
    "\n",
    "df = pd.DataFrame(confusion, range(10), range(10))\n",
    "plt.figure(figsize = (10,7))\n",
    "sn.heatmap(df, annot=True)\n",
    "plt.xlabel(\"Predicted label\")\n",
    "plt.ylabel(\"True label\")"
   ]
  },
  {
   "cell_type": "code",
   "execution_count": null,
   "metadata": {},
   "outputs": [],
   "source": []
  }
 ],
 "metadata": {
  "kernelspec": {
   "display_name": "Python 3",
   "language": "python",
   "name": "python3"
  },
  "language_info": {
   "codemirror_mode": {
    "name": "ipython",
    "version": 3
   },
   "file_extension": ".py",
   "mimetype": "text/x-python",
   "name": "python",
   "nbconvert_exporter": "python",
   "pygments_lexer": "ipython3",
   "version": "3.7.7"
  }
 },
 "nbformat": 4,
 "nbformat_minor": 4
}
